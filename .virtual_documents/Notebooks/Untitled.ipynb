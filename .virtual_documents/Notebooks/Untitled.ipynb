import pandas as pd 
import numpy as np 
import seaborn as sns
import matplotlib.pyplot as plt
import os  
import string
import nltk
from nltk.corpus import stopwords
from nltk.stem import PorterStemmer
from nltk.stem import WordNetLemmatizer
from collections import Counter
from sklearn.feature_extraction.text import TfidfVectorizer
from sklearn.model_selection import train_test_split
from sklearn.linear_model import LogisticRegression





raw_path = '../data/raw/bot_detection_data.csv'
data = pd.read_csv(raw_path)


data


data["Created At"] = pd.to_datetime(data["Created At"])


data.info()


data['Hashtags'] = data['Hashtags'].fillna('')


data['Username'] = data['Username'].str.lower()
data['Tweet'] = data['Tweet'].str.lower() 
data['Hashtags'] = data['Hashtags'].str.lower()
data['Location'] = data['Location'].str.lower()





data['Tweet'] = data['Tweet'].str.translate(str.maketrans('', '', string.punctuation))
data['Hashtags'] = data['Hashtags'].str.translate(str.maketrans('', '', string.punctuation))


nltk.download('punkt')
data['Tokenized Tweet'] = data['Tweet'].apply(nltk.word_tokenize)


nltk.download('stopwords')
stop_words = set(stopwords.words('english'))
data['Tokenized Tweet'] = data['Tokenized Tweet'].apply(lambda x: [word for word in x if word not in stop_words])


stemmer = PorterStemmer()
data['Stemmed Tweet'] = data['Tokenized Tweet'].apply(lambda x: [stemmer.stem(word) for word in x]) 


nltk.download('wordnet')
lemmatizer = WordNetLemmatizer()
data['Lemmatized Tweet'] = data['Tokenized Tweet'].apply(lambda x: [lemmatizer.lemmatize(word) for word in x])


data['Stemmed Tweet'] = data['Stemmed Tweet'].apply(lambda x: ' '.join(x))
data['Lemmatized Tweet'] = data['Lemmatized Tweet'].apply(lambda x: ' '.join(x))


vectorizer = TfidfVectorizer(max_features=5000)
X_tfidf = vectorizer.fit_transform(data['Lemmatized Tweet'])


y = data['Bot Label']
X_train, X_test, y_train, y_test = train_test_split(X_tfidf, y, test_size=0.2, random_state=42)





model = LogisticRegression()
model.fit(X_train, y_train)


y_pred = model.predict(X_test)


from sklearn.metrics import accuracy_score, classification_report
print("Accuracy:", accuracy_score(y_test, y_pred))
print("Classification Report:\n", classification_report(y_test, y_pred))



